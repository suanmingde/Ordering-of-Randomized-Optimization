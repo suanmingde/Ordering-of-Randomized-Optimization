{
 "cells": [
  {
   "cell_type": "code",
   "execution_count": 1,
   "metadata": {},
   "outputs": [],
   "source": [
    "import numpy as np\n",
    "import math\n",
    "import matplotlib.pyplot as plt\n",
    "from numpy.linalg import norm\n",
    "import matplotlib.pyplot as plt"
   ]
  },
  {
   "cell_type": "code",
   "execution_count": 82,
   "metadata": {},
   "outputs": [
    {
     "name": "stdout",
     "output_type": "stream",
     "text": [
      "[ 0.04967142 -0.01382643  0.06476885  0.15230299 -0.02341534]\n"
     ]
    }
   ],
   "source": [
    "np.random.seed(42)\n",
    "def generate_random_numbers(n, mu, sigma, dist=\"normal\"):\n",
    "    # write your code here.\n",
    "    if dist == \"normal\":\n",
    "        return np.random.normal(mu, sigma, n)\n",
    "    elif dist == \"uniform\":\n",
    "        return np.random.uniform(mu - sigma/math.sqrt(3),mu + sigma/math.sqrt(3),n)\n",
    "    else:\n",
    "        raise Exception(\"The distribution {unknown_dist} is not implemented\".format(unknown_dist=dist))\n",
    "# test your code:\n",
    "y_test = generate_random_numbers(5, 0, 0.1, \"normal\")\n",
    "print(y_test)"
   ]
  },
  {
   "cell_type": "code",
   "execution_count": 83,
   "metadata": {},
   "outputs": [
    {
     "name": "stdout",
     "output_type": "stream",
     "text": [
      "-2.0093411671336154\n",
      "0.48688467493601006\n"
     ]
    }
   ],
   "source": [
    "y1 = generate_random_numbers(105, 0.5, 20.0, \"normal\")\n",
    "y2 = generate_random_numbers(105, 0.5, 1.0, \"uniform\")\n",
    "print(np.mean(y1))\n",
    "print(np.mean(y2))"
   ]
  },
  {
   "cell_type": "code",
   "execution_count": 84,
   "metadata": {},
   "outputs": [],
   "source": [
    "# IGD, the ordering is permitted to have replacement. \n",
    "#\n",
    "#\n",
    "\n",
    "def IGD_wr_task1(y):\n",
    "    \n",
    "    def objf(x):\n",
    "        return 1/2*norm(x-y)**2\n",
    "\n",
    "    n = len(y)\n",
    "    ordering = np.random.choice(n, n, replace=True)\n",
    "    x = 0\n",
    "    f_list = []\n",
    "    \n",
    "    for k in range(len(ordering)):\n",
    "        f_list.append(objf(x))\n",
    "        ga = 1/(k+1)\n",
    "        x = x - ga*(x-y[ordering[k]])\n",
    "\n",
    "        \n",
    "    return x,f_list\n",
    "    \n",
    "    \n",
    "    \n",
    "    # implement the algorithm's iteration of IGD. Your result should return the the final xk\n",
    "    # at the last iteration and also the history of objective function at each xk."
   ]
  },
  {
   "cell_type": "code",
   "execution_count": 85,
   "metadata": {},
   "outputs": [
    {
     "name": "stdout",
     "output_type": "stream",
     "text": [
      "x =  -0.9841443610442078\n",
      "f =  17048.391842544646\n"
     ]
    }
   ],
   "source": [
    "x,f_list = IGD_wr_task1(y1)\n",
    "print(\"x = \",x)\n",
    "#print(np.amin(f_list))\n",
    "print(\"f = \",f_list[-1])"
   ]
  },
  {
   "cell_type": "code",
   "execution_count": 86,
   "metadata": {},
   "outputs": [
    {
     "name": "stdout",
     "output_type": "stream",
     "text": [
      "x =  0.4784347462308966\n",
      "f =  5.94987896538271\n"
     ]
    }
   ],
   "source": [
    "x,f_list = IGD_wr_task1(y2)\n",
    "print(\"x = \",x)\n",
    "#print(np.amin(f_list))\n",
    "print(\"f = \",f_list[-1])"
   ]
  },
  {
   "cell_type": "code",
   "execution_count": 87,
   "metadata": {},
   "outputs": [],
   "source": [
    "# IGD, the ordering is not permitted to have replacement.\n",
    "#\n",
    "#\n",
    "def IGD_wo_task1(y):\n",
    "    \n",
    "    def objf(x):\n",
    "        return 1/2*norm(x-y)**2\n",
    "    \n",
    "    n = len(y)\n",
    "    ordering = np.random.choice(n, n, replace=False)\n",
    "    \n",
    "    x = 0\n",
    "    f_list = []\n",
    "    \n",
    "    for k in range(len(ordering)):\n",
    "        f_list.append(objf(x))\n",
    "        ga = 1/(k+1)\n",
    "        x = x - ga*(x-y[ordering[k]])\n",
    "        \n",
    "    return x,f_list\n",
    "        \n",
    "    # implement the algorithm's iteration of IGD. Your result should return the the final xk\n",
    "    # at the last iteration and also the history of objective function at each xk.\n",
    "\n",
    "\n"
   ]
  },
  {
   "cell_type": "code",
   "execution_count": 88,
   "metadata": {},
   "outputs": [
    {
     "name": "stdout",
     "output_type": "stream",
     "text": [
      "x =  -2.009341167133616\n",
      "f =  16962.003902600816\n"
     ]
    }
   ],
   "source": [
    "x,f_list = IGD_wo_task1(y1)\n",
    "print(\"x = \",x)\n",
    "#print(np.amin(f_list))\n",
    "print(\"f = \",f_list[-1])\n"
   ]
  },
  {
   "cell_type": "code",
   "execution_count": 89,
   "metadata": {},
   "outputs": [
    {
     "name": "stdout",
     "output_type": "stream",
     "text": [
      "x =  0.4868846749360101\n",
      "f =  5.946069351590135\n"
     ]
    }
   ],
   "source": [
    "x,f_list = IGD_wo_task1(y2)\n",
    "print(\"x = \",x)\n",
    "#print(np.amin(f_list))\n",
    "print(\"f = \",f_list[-1])"
   ]
  },
  {
   "cell_type": "code",
   "execution_count": 90,
   "metadata": {},
   "outputs": [
    {
     "data": {
      "image/png": "[encoded data removed]",
      "text/plain": [
       "<Figure size 432x288 with 1 Axes>"
      ]
     },
     "metadata": {
      "needs_background": "light"
     },
     "output_type": "display_data"
    }
   ],
   "source": [
    "his = np.mean([IGD_wr_task1(y1)[1] for c in range(30)],axis=0)\n",
    "her = np.mean([IGD_wo_task1(y1)[1] for c in range(30)],axis=0)\n",
    "\n",
    "plt.semilogy(his,color='y')\n",
    "plt.semilogy(her,color='g')\n",
    "plt.show()"
   ]
  },
  {
   "cell_type": "code",
   "execution_count": 91,
   "metadata": {},
   "outputs": [
    {
     "data": {
      "image/png": "[encoded data removed]",
      "text/plain": [
       "<Figure size 432x288 with 1 Axes>"
      ]
     },
     "metadata": {
      "needs_background": "light"
     },
     "output_type": "display_data"
    }
   ],
   "source": [
    "# closer look\n",
    "plt.semilogy(his[10::],color='y')\n",
    "plt.semilogy(her[10::],color='g')\n",
    "plt.show()"
   ]
  },
  {
   "cell_type": "code",
   "execution_count": 92,
   "metadata": {},
   "outputs": [
    {
     "data": {
      "image/png": "[encoded data removed]",
      "text/plain": [
       "<Figure size 432x288 with 1 Axes>"
      ]
     },
     "metadata": {
      "needs_background": "light"
     },
     "output_type": "display_data"
    }
   ],
   "source": [
    "his = np.mean([IGD_wr_task1(y2)[1] for c in range(30)],axis=0)\n",
    "her = np.mean([IGD_wo_task1(y2)[1] for c in range(30)],axis=0)\n",
    "\n",
    "plt.semilogy(his,color='y')\n",
    "plt.semilogy(her,color='g')\n",
    "\n",
    "plt.show()"
   ]
  },
  {
   "cell_type": "code",
   "execution_count": 93,
   "metadata": {},
   "outputs": [
    {
     "data": {
      "image/png": "[encoded data removed]",
      "text/plain": [
       "<Figure size 432x288 with 1 Axes>"
      ]
     },
     "metadata": {
      "needs_background": "light"
     },
     "output_type": "display_data"
    }
   ],
   "source": [
    "# closer look\n",
    "plt.semilogy(his[10::],color='y')\n",
    "plt.semilogy(her[10::],color='g')\n",
    "\n",
    "plt.show()"
   ]
  },
  {
   "cell_type": "code",
   "execution_count": 94,
   "metadata": {},
   "outputs": [],
   "source": [
    "# Conclusion: IGD without replacement performs better."
   ]
  },
  {
   "cell_type": "code",
   "execution_count": 95,
   "metadata": {},
   "outputs": [],
   "source": [
    "beta = np.random.uniform(1.0,2.0,size=30)"
   ]
  },
  {
   "cell_type": "code",
   "execution_count": 96,
   "metadata": {},
   "outputs": [],
   "source": [
    "# IGD, the ordering is permitted to have replacement. \n",
    "#\n",
    "#\n",
    "def IGD_wr_task2(y,beta):   \n",
    "    \n",
    "    def objf(x):\n",
    "        a = (x-y)**2\n",
    "        return 1/2*np.sum(a*np.array(beta))\n",
    "    \n",
    "    n = len(beta)\n",
    "    ordering = np.random.choice(n, n, replace=True)\n",
    "    x = 0\n",
    "    f_list = []\n",
    "    \n",
    "    ga = 0.03/np.amin(beta)\n",
    "    \n",
    "    for k in range(len(ordering)):\n",
    "        f_list.append(objf(x))\n",
    "        x = x - ga*beta[ordering[k]]*(x-y)\n",
    "        \n",
    "    return x,f_list       \n",
    "    \n",
    "    \n",
    "    # implement the algorithm's iteration of IGD. Your result should return the the final xk\n",
    "    # at the last iteration and also the history of objective function at each xk."
   ]
  },
  {
   "cell_type": "code",
   "execution_count": 97,
   "metadata": {},
   "outputs": [
    {
     "name": "stdout",
     "output_type": "stream",
     "text": [
      "x =  0.7290058545443792\n",
      "f =  1.865202875072368\n"
     ]
    }
   ],
   "source": [
    "x,f_list = IGD_wr_task2(1,beta)\n",
    "print(\"x = \",x)\n",
    "#print(np.amin(f_list))\n",
    "print(\"f = \",f_list[-1])"
   ]
  },
  {
   "cell_type": "code",
   "execution_count": 98,
   "metadata": {},
   "outputs": [],
   "source": [
    "# IGD, the ordering is not permitted to have replacement.\n",
    "#\n",
    "#\n",
    "def IGD_wo_task2(y,beta):\n",
    "    \n",
    "    def objf(x):\n",
    "        a = (x-y)**2\n",
    "        return 1/2*np.sum(a*np.array(beta))\n",
    "    \n",
    "    n = len(beta)\n",
    "    ordering = np.random.choice(n, n, replace=False)\n",
    "    x = 0\n",
    "    f_list = []\n",
    "    \n",
    "    ga = 0.03/np.amin(beta)\n",
    "    \n",
    "    for k in range(len(ordering)):\n",
    "        f_list.append(objf(x))\n",
    "        x = x - ga*beta[ordering[k]]*(x-y)\n",
    "        \n",
    "        \n",
    "    return x,f_list    \n",
    "    \n",
    "    \n",
    "    # implement the algorithm's iteration of IGD. Your result should return the the final xk\n",
    "    # at the last iteration and also the history of objective function at each xk."
   ]
  },
  {
   "cell_type": "code",
   "execution_count": 99,
   "metadata": {},
   "outputs": [
    {
     "name": "stdout",
     "output_type": "stream",
     "text": [
      "x =  0.727820164645131\n",
      "f =  1.8165425419959655\n"
     ]
    }
   ],
   "source": [
    "x,f_list = IGD_wo_task2(1,beta)\n",
    "print(\"x = \",x)\n",
    "#print(np.amin(f_list))\n",
    "print(\"f = \",f_list[-1])"
   ]
  },
  {
   "cell_type": "code",
   "execution_count": 100,
   "metadata": {},
   "outputs": [
    {
     "data": {
      "image/png": "[encoded data removed]",
      "text/plain": [
       "<Figure size 432x288 with 1 Axes>"
      ]
     },
     "metadata": {
      "needs_background": "light"
     },
     "output_type": "display_data"
    }
   ],
   "source": [
    "his = np.mean([IGD_wr_task2(1,beta)[1] for c in range(220)],axis=0)\n",
    "her = np.mean([IGD_wo_task2(1,beta)[1] for c in range(220)],axis=0)\n",
    "\n",
    "plt.semilogy(his,color='y')\n",
    "plt.semilogy(her,color='g')\n",
    "\n",
    "plt.show()\n",
    "# plt.plot(IGD_wr_task2(1,beta)[1],color='y')\n",
    "# plt.plot(IGD_wo_task2(1,beta)[1],color='g')\n",
    "# plt.show()"
   ]
  },
  {
   "cell_type": "code",
   "execution_count": 101,
   "metadata": {},
   "outputs": [
    {
     "data": {
      "image/png": "[encoded data removed]",
      "text/plain": [
       "<Figure size 432x288 with 1 Axes>"
      ]
     },
     "metadata": {
      "needs_background": "light"
     },
     "output_type": "display_data"
    }
   ],
   "source": [
    "# closer look\n",
    "plt.semilogy(his[25::],color='y')\n",
    "plt.semilogy(her[25::],color='g')\n",
    "\n",
    "plt.show()"
   ]
  },
  {
   "cell_type": "code",
   "execution_count": null,
   "metadata": {},
   "outputs": [],
   "source": [
    "# Conlusion: IGD without replacement performs better."
   ]
  },
  {
   "cell_type": "code",
   "execution_count": 102,
   "metadata": {},
   "outputs": [],
   "source": [
    "# generation of exact solution and data y and matrix A.\n",
    "\n",
    "def generate_problem_task3(m, n, rho):\n",
    "    A = np.random.normal(0., 1.0, (m, n))\n",
    "    x = np.random.random(n) # uniform in (0,1)\n",
    "    w = np.random.normal(0., rho, m)\n",
    "    y = A@x + w\n",
    "    return A, x, y"
   ]
  },
  {
   "cell_type": "code",
   "execution_count": 103,
   "metadata": {},
   "outputs": [],
   "source": [
    "# We generate the problem with 200x100 matrix. rho as 0.01.\n",
    "#\n",
    "A, xstar, y = generate_problem_task3(200, 100, 0.01)"
   ]
  },
  {
   "cell_type": "code",
   "execution_count": 104,
   "metadata": {},
   "outputs": [
    {
     "data": {
      "text/plain": [
       "(100,)"
      ]
     },
     "execution_count": 104,
     "metadata": {},
     "output_type": "execute_result"
    }
   ],
   "source": [
    "xstar.shape"
   ]
  },
  {
   "cell_type": "code",
   "execution_count": 105,
   "metadata": {},
   "outputs": [
    {
     "data": {
      "text/plain": [
       "(200,)"
      ]
     },
     "execution_count": 105,
     "metadata": {},
     "output_type": "execute_result"
    }
   ],
   "source": [
    "y.shape"
   ]
  },
  {
   "cell_type": "code",
   "execution_count": 106,
   "metadata": {},
   "outputs": [],
   "source": [
    "# In these two functions, we could only focus on the first n steps and try to make comparisons on these data only.\n",
    "# In practice, it requires more iterations to converge, due to the matrix might not be easy to deal with.\n",
    "# You can put the ordering loop into a naive loop: namely, we simply perform the IGD code several rounds.\n",
    "#\n",
    "#\n",
    "#\n",
    "# IGD, the ordering is permitted to have replacement. \n",
    "#\n",
    "#\n",
    "def IGD_wr_task3(y, A):\n",
    "    \n",
    "    AT = A.T\n",
    "    def objf(x):\n",
    "        return norm(A@x - y)**2\n",
    "    \n",
    "    n = A.shape[1]\n",
    "    ordering = np.random.choice(n,n,replace=True)\n",
    "    x = np.zeros(len(xstar))\n",
    "    f_list = []\n",
    "    x_list = []\n",
    "    \n",
    "    ga = 1e-3\n",
    "    for k in range(len(ordering)):\n",
    "        x_list.append(x)\n",
    "        f_list.append(objf(x))\n",
    "        \n",
    "        x = x - ga*A[ordering[k]]*(np.dot(A[ordering[k]],x) - y[ordering[k]])\n",
    "        \n",
    "    return x,f_list,x_list\n",
    "            \n",
    "    # implement the algorithm's iteration of IGD. Your result should return the the final xk\n",
    "    # at the last iteration and also the history of objective function at each xk.\n",
    "    \n",
    "\n",
    "\n",
    "# IGD, the ordering is not permitted to have replacement.\n",
    "#\n",
    "#\n",
    "def IGD_wo_task3(y, A):\n",
    "    \n",
    "    AT = A.T\n",
    "    def objf(x):\n",
    "        return norm(A@x - y)**2\n",
    "    \n",
    "    n = A.shape[1]\n",
    "    ordering = np.random.choice(n,n,replace=False)\n",
    "    x = np.zeros(len(xstar))\n",
    "    f_list = []\n",
    "    x_list = []\n",
    "    \n",
    "    ga = 1e-3\n",
    "    for k in range(len(ordering)):\n",
    "        x_list.append(x)\n",
    "        f_list.append(objf(x))\n",
    "        \n",
    "        x = x - ga*A[ordering[k]]*(np.dot(A[ordering[k]],x) - y[ordering[k]])\n",
    "        \n",
    "    return x,f_list,x_list\n",
    "\n",
    "\n",
    "    # implement the algorithm's iteration of IGD. Your result should return the the final xk\n",
    "    # at the last iteration and also the history of objective function at each xk.\n"
   ]
  },
  {
   "cell_type": "code",
   "execution_count": 112,
   "metadata": {},
   "outputs": [
    {
     "data": {
      "image/png": "[encoded data removed]",
      "text/plain": [
       "<Figure size 432x288 with 1 Axes>"
      ]
     },
     "metadata": {
      "needs_background": "light"
     },
     "output_type": "display_data"
    }
   ],
   "source": [
    "his = np.mean([IGD_wr_task3(y, A)[1] for c in range(200)],axis=0)\n",
    "her = np.mean([IGD_wo_task3(y, A)[1] for c in range(200)],axis=0)\n",
    "\n",
    "plt.semilogy(his,color='y')\n",
    "plt.semilogy(her,color='g')\n",
    "\n",
    "plt.show()\n",
    "# plt.plot(IGD_wr_task3(y, A)[1],color='y')\n",
    "# plt.plot(IGD_wo_task3(y, A)[1],color='g')\n",
    "# plt.show()"
   ]
  },
  {
   "cell_type": "code",
   "execution_count": 115,
   "metadata": {},
   "outputs": [
    {
     "data": {
      "image/png": "[encoded data removed]",
      "text/plain": [
       "<Figure size 432x288 with 1 Axes>"
      ]
     },
     "metadata": {
      "needs_background": "light"
     },
     "output_type": "display_data"
    }
   ],
   "source": [
    "conver_his = np.array([np.linalg.norm(x - xstar) for x in IGD_wr_task3(y, A)[2]])\n",
    "conver_her = np.array([np.linalg.norm(x - xstar) for x in IGD_wo_task3(y, A)[2]])\n",
    "plt.semilogy(conver_his,color='y')\n",
    "plt.semilogy(conver_her,color='g')\n",
    "\n",
    "plt.show()"
   ]
  },
  {
   "cell_type": "code",
   "execution_count": null,
   "metadata": {},
   "outputs": [],
   "source": [
    "# Conclusion: IGD without replacement performs better."
   ]
  }
 ],
 "metadata": {
  "kernelspec": {
   "display_name": "Python 3",
   "language": "python",
   "name": "python3"
  },
  "language_info": {
   "codemirror_mode": {
    "name": "ipython",
    "version": 3
   },
   "file_extension": ".py",
   "mimetype": "text/x-python",
   "name": "python",
   "nbconvert_exporter": "python",
   "pygments_lexer": "ipython3",
   "version": "3.7.1"
  }
 },
 "nbformat": 4,
 "nbformat_minor": 2
}
