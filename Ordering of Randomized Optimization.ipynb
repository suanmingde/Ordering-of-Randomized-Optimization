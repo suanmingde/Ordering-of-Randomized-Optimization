{
 "cells": [
  {
   "cell_type": "code",
   "execution_count": 63,
   "metadata": {},
   "outputs": [],
   "source": [
    "import numpy as np\n",
    "import math\n",
    "import matplotlib.pyplot as plt\n",
    "from numpy.linalg import norm\n",
    "import matplotlib.pyplot as plt"
   ]
  },
  {
   "cell_type": "code",
   "execution_count": 64,
   "metadata": {},
   "outputs": [
    {
     "name": "stdout",
     "output_type": "stream",
     "text": [
      "[ 0.04967142 -0.01382643  0.06476885  0.15230299 -0.02341534]\n"
     ]
    }
   ],
   "source": [
    "np.random.seed(42)\n",
    "def generate_random_numbers(n, mu, sigma, dist=\"normal\"):\n",
    "    if dist == \"normal\":\n",
    "        return np.random.normal(mu, sigma, n)\n",
    "    elif dist == \"uniform\":\n",
    "        return np.random.uniform(mu - sigma/math.sqrt(3),mu + sigma/math.sqrt(3),n)\n",
    "    else:\n",
    "        raise Exception(\"The distribution {unknown_dist} is not implemented\".format(unknown_dist=dist))\n",
    "\n",
    "y_test = generate_random_numbers(5, 0, 0.1, \"normal\")\n",
    "print(y_test)"
   ]
  },
  {
   "cell_type": "code",
   "execution_count": 107,
   "metadata": {},
   "outputs": [
    {
     "name": "stdout",
     "output_type": "stream",
     "text": [
      "0.1361887864233144\n",
      "0.5202402590686496\n"
     ]
    }
   ],
   "source": [
    "y1 = generate_random_numbers(105, 0.5, 20.0, \"normal\")\n",
    "y2 = generate_random_numbers(105, 0.5, 1.0, \"uniform\")\n",
    "print(np.mean(y1))\n",
    "print(np.mean(y2))"
   ]
  },
  {
   "cell_type": "code",
   "execution_count": 108,
   "metadata": {},
   "outputs": [],
   "source": [
    "def IGD_wr_task1(y):\n",
    "    \n",
    "    def objf(x):\n",
    "        return 1/2*norm(x-y)**2\n",
    "\n",
    "    n = len(y)\n",
    "    ordering = np.random.choice(n, n, replace=True)\n",
    "    x = 0\n",
    "    f_list = []\n",
    "    \n",
    "    for k in range(len(ordering)):\n",
    "        f_list.append(objf(x))\n",
    "        ga = 1/(k+1)\n",
    "        x = x - ga*(x-y[ordering[k]])\n",
    "\n",
    "        \n",
    "    return x,f_list"
   ]
  },
  {
   "cell_type": "code",
   "execution_count": 109,
   "metadata": {},
   "outputs": [
    {
     "name": "stdout",
     "output_type": "stream",
     "text": [
      "x =  -2.1167326771623607\n",
      "f =  29923.193768341687\n"
     ]
    }
   ],
   "source": [
    "x,f_list = IGD_wr_task1(y1)\n",
    "print(\"x = \",x)\n",
    "print(\"f = \",f_list[-1])"
   ]
  },
  {
   "cell_type": "code",
   "execution_count": 110,
   "metadata": {},
   "outputs": [
    {
     "name": "stdout",
     "output_type": "stream",
     "text": [
      "x =  0.5548857785773224\n",
      "f =  6.433129733316344\n"
     ]
    }
   ],
   "source": [
    "x,f_list = IGD_wr_task1(y2)\n",
    "print(\"x = \",x)\n",
    "print(\"f = \",f_list[-1])"
   ]
  },
  {
   "cell_type": "code",
   "execution_count": 111,
   "metadata": {},
   "outputs": [],
   "source": [
    "def IGD_wo_task1(y):\n",
    "    \n",
    "    def objf(x):\n",
    "        return 1/2*norm(x-y)**2\n",
    "    \n",
    "    n = len(y)\n",
    "    ordering = np.random.choice(n, n, replace=False)\n",
    "    \n",
    "    x = 0\n",
    "    f_list = []\n",
    "    \n",
    "    for k in range(len(ordering)):\n",
    "        f_list.append(objf(x))\n",
    "        ga = 1/(k+1)\n",
    "        x = x - ga*(x-y[ordering[k]])\n",
    "        \n",
    "    return x,f_list"
   ]
  },
  {
   "cell_type": "code",
   "execution_count": 112,
   "metadata": {},
   "outputs": [
    {
     "name": "stdout",
     "output_type": "stream",
     "text": [
      "x =  0.1361887864233134\n",
      "f =  29674.31642714296\n"
     ]
    }
   ],
   "source": [
    "x,f_list = IGD_wo_task1(y1)\n",
    "print(\"x = \",x)\n",
    "print(\"f = \",f_list[-1])\n"
   ]
  },
  {
   "cell_type": "code",
   "execution_count": 113,
   "metadata": {},
   "outputs": [
    {
     "name": "stdout",
     "output_type": "stream",
     "text": [
      "x =  0.5202402590686496\n",
      "f =  6.3576490464814865\n"
     ]
    }
   ],
   "source": [
    "x,f_list = IGD_wo_task1(y2)\n",
    "print(\"x = \",x)\n",
    "print(\"f = \",f_list[-1])"
   ]
  },
  {
   "cell_type": "code",
   "execution_count": 127,
   "metadata": {},
   "outputs": [
    {
     "data": {
      "image/png": "[encoded data removed]",
      "text/plain": [
       "<Figure size 432x288 with 1 Axes>"
      ]
     },
     "metadata": {
      "needs_background": "light"
     },
     "output_type": "display_data"
    }
   ],
   "source": [
    "his = np.mean([IGD_wr_task1(y1)[1] for c in range(30)],axis=0)\n",
    "her = np.mean([IGD_wo_task1(y1)[1] for c in range(30)],axis=0)\n",
    "\n",
    "plt.semilogy(his[20:-1],color='y')\n",
    "plt.semilogy(her[20:-1],color='g')\n",
    "\n",
    "plt.show()"
   ]
  },
  {
   "cell_type": "code",
   "execution_count": 136,
   "metadata": {},
   "outputs": [
    {
     "data": {
      "image/png": "[encoded data removed]",
      "text/plain": [
       "<Figure size 432x288 with 1 Axes>"
      ]
     },
     "metadata": {
      "needs_background": "light"
     },
     "output_type": "display_data"
    }
   ],
   "source": [
    "his = np.mean([IGD_wr_task1(y2)[1] for c in range(30)],axis=0)\n",
    "her = np.mean([IGD_wo_task1(y2)[1] for c in range(30)],axis=0)\n",
    "\n",
    "plt.semilogy(his[20:-1],color='y')\n",
    "plt.semilogy(her[20:-1],color='g')\n",
    "\n",
    "plt.show()"
   ]
  },
  {
   "cell_type": "code",
   "execution_count": 137,
   "metadata": {},
   "outputs": [],
   "source": [
    "beta = np.random.uniform(1.0,2.0,size=30)"
   ]
  },
  {
   "cell_type": "code",
   "execution_count": 138,
   "metadata": {},
   "outputs": [],
   "source": [
    "def IGD_wr_task2(y,beta):   \n",
    "    \n",
    "    def objf(x):\n",
    "        a = (x-y)**2\n",
    "        return 1/2*np.sum(a*np.array(beta))\n",
    "    \n",
    "    n = len(beta)\n",
    "    ordering = np.random.choice(n, n, replace=True)\n",
    "    x = 0\n",
    "    f_list = []\n",
    "    \n",
    "    ga = 0.03/np.amin(beta)\n",
    "    \n",
    "    for k in range(len(ordering)):\n",
    "        f_list.append(objf(x))\n",
    "        x = x - ga*beta[ordering[k]]*(x-y)\n",
    "        \n",
    "    return x,f_list       "
   ]
  },
  {
   "cell_type": "code",
   "execution_count": 139,
   "metadata": {},
   "outputs": [
    {
     "name": "stdout",
     "output_type": "stream",
     "text": [
      "x =  0.7529332078985905\n",
      "f =  1.5156567679103292\n"
     ]
    }
   ],
   "source": [
    "x,f_list = IGD_wr_task2(1,beta)\n",
    "print(\"x = \",x)\n",
    "print(\"f = \",f_list[-1])"
   ]
  },
  {
   "cell_type": "code",
   "execution_count": 140,
   "metadata": {},
   "outputs": [],
   "source": [
    "def IGD_wo_task2(y,beta):\n",
    "    \n",
    "    def objf(x):\n",
    "        a = (x-y)**2\n",
    "        return 1/2*np.sum(a*np.array(beta))\n",
    "    \n",
    "    n = len(beta)\n",
    "    ordering = np.random.choice(n, n, replace=False)\n",
    "    x = 0\n",
    "    f_list = []\n",
    "    \n",
    "    ga = 0.03/np.amin(beta)\n",
    "    \n",
    "    for k in range(len(ordering)):\n",
    "        f_list.append(objf(x))\n",
    "        x = x - ga*beta[ordering[k]]*(x-y)\n",
    "        \n",
    "        \n",
    "    return x,f_list    \n"
   ]
  },
  {
   "cell_type": "code",
   "execution_count": 141,
   "metadata": {},
   "outputs": [
    {
     "name": "stdout",
     "output_type": "stream",
     "text": [
      "x =  0.7458195587402016\n",
      "f =  1.5927991896837683\n"
     ]
    }
   ],
   "source": [
    "x,f_list = IGD_wo_task2(1,beta)\n",
    "print(\"x = \",x)\n",
    "print(\"f = \",f_list[-1])"
   ]
  },
  {
   "cell_type": "code",
   "execution_count": 148,
   "metadata": {},
   "outputs": [
    {
     "data": {
      "image/png": "[encoded data removed]",
      "text/plain": [
       "<Figure size 432x288 with 1 Axes>"
      ]
     },
     "metadata": {
      "needs_background": "light"
     },
     "output_type": "display_data"
    }
   ],
   "source": [
    "his = np.mean([IGD_wr_task2(1,beta)[1] for c in range(220)],axis=0)\n",
    "her = np.mean([IGD_wo_task2(1,beta)[1] for c in range(220)],axis=0)\n",
    "\n",
    "plt.semilogy(his[20:-1],color='y')\n",
    "plt.semilogy(her[20:-1],color='g')\n",
    "\n",
    "plt.show()"
   ]
  },
  {
   "cell_type": "code",
   "execution_count": 149,
   "metadata": {},
   "outputs": [],
   "source": [
    "def generate_problem_task3(m, n, rho):\n",
    "    A = np.random.normal(0., 1.0, (m, n))\n",
    "    x = np.random.random(n) # uniform in (0,1)\n",
    "    w = np.random.normal(0., rho, m)\n",
    "    y = A@x + w\n",
    "    return A, x, y"
   ]
  },
  {
   "cell_type": "code",
   "execution_count": 150,
   "metadata": {},
   "outputs": [],
   "source": [
    "A, xstar, y = generate_problem_task3(200, 100, 0.01)"
   ]
  },
  {
   "cell_type": "code",
   "execution_count": 153,
   "metadata": {},
   "outputs": [],
   "source": [
    "def IGD_wr_task3(y, A):\n",
    "    \n",
    "    AT = A.T\n",
    "    def objf(x):\n",
    "        return norm(A@x - y)**2\n",
    "    \n",
    "    n = A.shape[1]\n",
    "    ordering = np.random.choice(n,n,replace=True)\n",
    "    x = np.zeros(len(xstar))\n",
    "    f_list = []\n",
    "    x_list = []\n",
    "    \n",
    "    ga = 1e-3\n",
    "    for k in range(len(ordering)):\n",
    "        x_list.append(x)\n",
    "        f_list.append(objf(x))\n",
    "        \n",
    "        x = x - ga*A[ordering[k]]*(np.dot(A[ordering[k]],x) - y[ordering[k]])\n",
    "        \n",
    "    return x,f_list,x_list\n",
    "\n",
    "def IGD_wo_task3(y, A):\n",
    "    \n",
    "    AT = A.T\n",
    "    def objf(x):\n",
    "        return norm(A@x - y)**2\n",
    "    \n",
    "    n = A.shape[1]\n",
    "    ordering = np.random.choice(n,n,replace=False)\n",
    "    x = np.zeros(len(xstar))\n",
    "    f_list = []\n",
    "    x_list = []\n",
    "    \n",
    "    ga = 1e-3\n",
    "    for k in range(len(ordering)):\n",
    "        x_list.append(x)\n",
    "        f_list.append(objf(x))\n",
    "        \n",
    "        x = x - ga*A[ordering[k]]*(np.dot(A[ordering[k]],x) - y[ordering[k]])\n",
    "        \n",
    "    return x,f_list,x_list"
   ]
  },
  {
   "cell_type": "code",
   "execution_count": 154,
   "metadata": {},
   "outputs": [
    {
     "data": {
      "image/png": "[encoded data removed]",
      "text/plain": [
       "<Figure size 432x288 with 1 Axes>"
      ]
     },
     "metadata": {
      "needs_background": "light"
     },
     "output_type": "display_data"
    }
   ],
   "source": [
    "his = np.mean([IGD_wr_task3(y, A)[1] for c in range(200)],axis=0)\n",
    "her = np.mean([IGD_wo_task3(y, A)[1] for c in range(200)],axis=0)\n",
    "\n",
    "plt.semilogy(his[20:-1],color='y')\n",
    "plt.semilogy(her[20:-1],color='g')\n",
    "\n",
    "plt.show()"
   ]
  }
 ],
 "metadata": {
  "kernelspec": {
   "display_name": "Python 3",
   "language": "python",
   "name": "python3"
  },
  "language_info": {
   "codemirror_mode": {
    "name": "ipython",
    "version": 3
   },
   "file_extension": ".py",
   "mimetype": "text/x-python",
   "name": "python",
   "nbconvert_exporter": "python",
   "pygments_lexer": "ipython3",
   "version": "3.7.1"
  }
 },
 "nbformat": 4,
 "nbformat_minor": 2
}
